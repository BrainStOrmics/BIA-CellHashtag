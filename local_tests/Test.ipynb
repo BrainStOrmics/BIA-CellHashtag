{
 "cells": [
  {
   "cell_type": "code",
   "execution_count": null,
   "metadata": {},
   "outputs": [],
   "source": [
    "import os\n",
    "import sys\n",
    "import scanpy as sc\n",
    "import pandas as pd\n",
    "\n",
    "from langchain_openai import ChatOpenAI\n",
    "\n",
    "sys.path.append(os.path.abspath('..'))\n",
    "from cellhashtag.utils import *\n",
    "from cellhashtag._Agent import CellHashtagAgent"
   ]
  },
  {
   "cell_type": "code",
   "execution_count": null,
   "metadata": {},
   "outputs": [],
   "source": [
    "\n",
    "bgi_api_key = 'sk-NYPE5WNGTK781Nox801a5934A9F84a03BfC525359eBaE7B6'\n",
    "bgi_api_base = 'http://10.224.28.80:3000/v1'\n",
    "\n",
    "tavily_api = \"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\"\n",
    "\n",
    "llm = call_chatllm_openai(bgi_api_key, bgi_api_base, 'deepseek-v3-hs')\n",
    "\n"
   ]
  },
  {
   "cell_type": "code",
   "execution_count": null,
   "metadata": {},
   "outputs": [],
   "source": [
    "adata = sc.read_h5ad('../cellhashtag/data/example.h5ad')\n",
    "cell_markers_df = pd.read_csv('../cellhashtag/data/example_cellmarkers.csv',index_col=0)\n",
    "print('Check cell markers dataframe:')\n",
    "cell_markers_df"
   ]
  },
  {
   "cell_type": "code",
   "execution_count": null,
   "metadata": {},
   "outputs": [],
   "source": [
    "agent = CellHashtagAgent(web_scraper_api_key = None)"
   ]
  },
  {
   "cell_type": "code",
   "execution_count": null,
   "metadata": {},
   "outputs": [],
   "source": [
    "draw_graph(agent.graph)"
   ]
  },
  {
   "cell_type": "code",
   "execution_count": null,
   "metadata": {},
   "outputs": [],
   "source": [
    "draw_graph(agent.subgraph)"
   ]
  },
  {
   "cell_type": "code",
   "execution_count": null,
   "metadata": {},
   "outputs": [],
   "source": [
    "output_adata, output_states = agent.run(\n",
    "                                        llm=think_llm, \n",
    "                                        adata= adata,\n",
    "                                        cell_marker_df_dir = '../cellhashtag/data/example_cellmarkers.csv',\n",
    "                                        )"
   ]
  }
 ],
 "metadata": {
  "language_info": {
   "name": "python"
  }
 },
 "nbformat": 4,
 "nbformat_minor": 2
}
