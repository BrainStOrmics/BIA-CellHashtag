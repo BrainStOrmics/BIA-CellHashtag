{
 "cells": [
  {
   "cell_type": "code",
   "execution_count": 1,
   "metadata": {},
   "outputs": [],
   "source": [
    "import os\n",
    "import sys\n",
    "import scanpy as sc\n",
    "import pandas as pd\n",
    "\n",
    "from langchain_openai import ChatOpenAI\n",
    "\n",
    "sys.path.append(os.path.abspath('.'))\n",
    "from cellhashtag.utils import *\n",
    "from cellhashtag._Agent import CellHashtagAgent"
   ]
  },
  {
   "cell_type": "code",
   "execution_count": null,
   "metadata": {},
   "outputs": [],
   "source": [
    "#setup LLMs\n",
    "llm_api_key = \"\"\n",
    "llm_api_base = \"\"\n",
    "model_name = \"\"\n",
    "llm = call_chatllm_openai(llm_api_key, llm_api_base)\n",
    "#setup webscraper\n",
    "tavily_api = \"\"\n"
   ]
  },
  {
   "cell_type": "code",
   "execution_count": null,
   "metadata": {},
   "outputs": [],
   "source": []
  },
  {
   "cell_type": "code",
   "execution_count": null,
   "metadata": {},
   "outputs": [],
   "source": [
    "adata = sc.read_h5ad('cellhashtag/data/example.h5ad')\n",
    "cell_markers_df = pd.read_csv('cellhashtag/data/example_cellmarkers.csv',index_col=0)\n",
    "print('Check cell markers dataframe:')\n",
    "cell_markers_df"
   ]
  },
  {
   "cell_type": "code",
   "execution_count": null,
   "metadata": {},
   "outputs": [],
   "source": [
    "agent = CellHashtagAgent(web_scraper_api_key = None)"
   ]
  },
  {
   "cell_type": "code",
   "execution_count": null,
   "metadata": {},
   "outputs": [],
   "source": [
    "draw_graph(agent.graph)"
   ]
  },
  {
   "cell_type": "code",
   "execution_count": null,
   "metadata": {},
   "outputs": [],
   "source": [
    "draw_graph(agent.subgraph)"
   ]
  },
  {
   "cell_type": "code",
   "execution_count": null,
   "metadata": {},
   "outputs": [],
   "source": [
    "output_adata, output_states = agent.run(\n",
    "                                        llm=think_llm, \n",
    "                                        adata= adata,\n",
    "                                        cell_marker_df_dir = 'cellhashtag/data/example_cellmarkers.csv',\n",
    "                                        )"
   ]
  }
 ],
 "metadata": {
  "kernelspec": {
   "display_name": "BIA-dev",
   "language": "python",
   "name": "python3"
  },
  "language_info": {
   "codemirror_mode": {
    "name": "ipython",
    "version": 3
   },
   "file_extension": ".py",
   "mimetype": "text/x-python",
   "name": "python",
   "nbconvert_exporter": "python",
   "pygments_lexer": "ipython3",
   "version": "3.11.8"
  }
 },
 "nbformat": 4,
 "nbformat_minor": 2
}
